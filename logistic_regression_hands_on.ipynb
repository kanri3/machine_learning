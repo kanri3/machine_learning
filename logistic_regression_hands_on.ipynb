{
  "nbformat": 4,
  "nbformat_minor": 0,
  "metadata": {
    "kernelspec": {
      "name": "python3",
      "display_name": "Python 3"
    },
    "language_info": {
      "codemirror_mode": {
        "name": "ipython",
        "version": 3
      },
      "file_extension": ".py",
      "mimetype": "text/x-python",
      "name": "python",
      "nbconvert_exporter": "python",
      "pygments_lexer": "ipython3",
      "version": "3.6.5"
    },
    "colab": {
      "name": "logistic_regression_hands_on.ipynb",
      "provenance": [],
      "collapsed_sections": [],
      "include_colab_link": true
    },
    "accelerator": "GPU"
  },
  "cells": [
    {
      "cell_type": "markdown",
      "metadata": {
        "id": "view-in-github",
        "colab_type": "text"
      },
      "source": [
        "<a href=\"https://colab.research.google.com/github/kanri3/machine_learning/blob/main/logistic_regression_hands_on.ipynb\" target=\"_parent\"><img src=\"https://colab.research.google.com/assets/colab-badge.svg\" alt=\"Open In Colab\"/></a>"
      ]
    },
    {
      "cell_type": "markdown",
      "metadata": {
        "id": "NZ6u9IRJHArG"
      },
      "source": [
        "# ロジスティック回帰"
      ]
    },
    {
      "cell_type": "code",
      "metadata": {
        "id": "2FbvwsllHArH"
      },
      "source": [
        "%matplotlib inline\n",
        "import numpy as np\n",
        "import matplotlib.pyplot as plt"
      ],
      "execution_count": 22,
      "outputs": []
    },
    {
      "cell_type": "markdown",
      "metadata": {
        "id": "VmfChaOoHArJ"
      },
      "source": [
        "## 訓練データ生成"
      ]
    },
    {
      "cell_type": "code",
      "metadata": {
        "id": "NGwotNP4HArK"
      },
      "source": [
        "n_sample = 100\n",
        "# harf_n_sample = 50\n",
        "var = .2 # ばらつき標準偏差\n",
        "\n",
        "def gen_data(n_sample):\n",
        "    harf_n_sample = int(n_sample / 2)\n",
        "    # 説明変数x1とx2\n",
        "    # 50×2の行列を作成。要素の平均値は-1と+1\n",
        "    X1_x2_upper = np.random.normal(size=n_sample).reshape(-1, 2) - 1.\n",
        "    X1_x2_lower = np.random.normal(size=n_sample).reshape(-1, 2) + 1.\n",
        "    # 上下に結合\n",
        "    X1_x2 = np.concatenate([X1_x2_upper, X1_x2_lower])\n",
        "    print(\"X1_x2:{}\".format(X1_x2.shape))\n",
        "\n",
        "    # 目的変数y ロジスティック回帰の目的変数は0 or 1\n",
        "    y_ = np.concatenate([np.zeros(harf_n_sample), np.ones(harf_n_sample)]).astype(np.int)\n",
        "    return X1_x2, y_\n",
        "\n",
        "def plt_data(X1_x2, y_):\n",
        "    x1_ = X1_x2[:, 0]\n",
        "    x2_ = X1_x2[:, 1]\n",
        "    plt.scatter(x1_, x2_, c=y_, facecolor=\"none\", edgecolor=\"b\", s=50, label=\"training data\")\n",
        "    plt.legend()"
      ],
      "execution_count": 23,
      "outputs": []
    },
    {
      "cell_type": "code",
      "metadata": {
        "id": "dx6qyYLjHArM",
        "colab": {
          "base_uri": "https://localhost:8080/",
          "height": 282
        },
        "outputId": "074bbfcd-8763-4f07-e034-80c20b5634ea"
      },
      "source": [
        "#データ作成\n",
        "X1_x2, y_ = gen_data(n_sample)\n",
        "#データ表示\n",
        "plt_data(X1_x2, y_)"
      ],
      "execution_count": 24,
      "outputs": [
        {
          "output_type": "stream",
          "text": [
            "X1_x2:(100, 2)\n"
          ],
          "name": "stdout"
        },
        {
          "output_type": "display_data",
          "data": {
            "image/png": "[encoded data removed]",
            "text/plain": [
              "<Figure size 432x288 with 1 Axes>"
            ]
          },
          "metadata": {
            "tags": [],
            "needs_background": "light"
          }
        }
      ]
    },
    {
      "cell_type": "markdown",
      "metadata": {
        "id": "_Ya-v-wWHArP"
      },
      "source": [
        "## 学習"
      ]
    },
    {
      "cell_type": "code",
      "metadata": {
        "id": "G2oQNoMTHArQ"
      },
      "source": [
        "# 引数の行列の左端に1だけの列を追加（定数項を出力）\n",
        "def add_one(X):\n",
        "    return np.concatenate([np.ones(len(X))[:, None], X], axis=1)"
      ],
      "execution_count": 25,
      "outputs": []
    },
    {
      "cell_type": "code",
      "metadata": {
        "colab": {
          "base_uri": "https://localhost:8080/"
        },
        "id": "Z9JKVVHfBSz5",
        "outputId": "8bd8534b-299b-41bd-a95a-446b3371858e"
      },
      "source": [
        "x=np.arange(100).reshape(10,10)\n",
        "print(x)\n",
        "# 1 / (1 + np.exp(-x))\n",
        "1 / (1+x)"
      ],
      "execution_count": 26,
      "outputs": [
        {
          "output_type": "stream",
          "text": [
            "[[ 0  1  2  3  4  5  6  7  8  9]\n",
            " [10 11 12 13 14 15 16 17 18 19]\n",
            " [20 21 22 23 24 25 26 27 28 29]\n",
            " [30 31 32 33 34 35 36 37 38 39]\n",
            " [40 41 42 43 44 45 46 47 48 49]\n",
            " [50 51 52 53 54 55 56 57 58 59]\n",
            " [60 61 62 63 64 65 66 67 68 69]\n",
            " [70 71 72 73 74 75 76 77 78 79]\n",
            " [80 81 82 83 84 85 86 87 88 89]\n",
            " [90 91 92 93 94 95 96 97 98 99]]\n"
          ],
          "name": "stdout"
        },
        {
          "output_type": "execute_result",
          "data": {
            "text/plain": [
              "array([[1.        , 0.5       , 0.33333333, 0.25      , 0.2       ,\n",
              "        0.16666667, 0.14285714, 0.125     , 0.11111111, 0.1       ],\n",
              "       [0.09090909, 0.08333333, 0.07692308, 0.07142857, 0.06666667,\n",
              "        0.0625    , 0.05882353, 0.05555556, 0.05263158, 0.05      ],\n",
              "       [0.04761905, 0.04545455, 0.04347826, 0.04166667, 0.04      ,\n",
              "        0.03846154, 0.03703704, 0.03571429, 0.03448276, 0.03333333],\n",
              "       [0.03225806, 0.03125   , 0.03030303, 0.02941176, 0.02857143,\n",
              "        0.02777778, 0.02702703, 0.02631579, 0.02564103, 0.025     ],\n",
              "       [0.02439024, 0.02380952, 0.02325581, 0.02272727, 0.02222222,\n",
              "        0.02173913, 0.0212766 , 0.02083333, 0.02040816, 0.02      ],\n",
              "       [0.01960784, 0.01923077, 0.01886792, 0.01851852, 0.01818182,\n",
              "        0.01785714, 0.01754386, 0.01724138, 0.01694915, 0.01666667],\n",
              "       [0.01639344, 0.01612903, 0.01587302, 0.015625  , 0.01538462,\n",
              "        0.01515152, 0.01492537, 0.01470588, 0.01449275, 0.01428571],\n",
              "       [0.01408451, 0.01388889, 0.01369863, 0.01351351, 0.01333333,\n",
              "        0.01315789, 0.01298701, 0.01282051, 0.01265823, 0.0125    ],\n",
              "       [0.01234568, 0.01219512, 0.01204819, 0.01190476, 0.01176471,\n",
              "        0.01162791, 0.01149425, 0.01136364, 0.01123596, 0.01111111],\n",
              "       [0.01098901, 0.01086957, 0.01075269, 0.0106383 , 0.01052632,\n",
              "        0.01041667, 0.01030928, 0.01020408, 0.01010101, 0.01      ]])"
            ]
          },
          "metadata": {
            "tags": []
          },
          "execution_count": 26
        }
      ]
    },
    {
      "cell_type": "code",
      "metadata": {
        "id": "2Wur9YoFHArS",
        "colab": {
          "base_uri": "https://localhost:8080/"
        },
        "outputId": "ee4f7549-4a38-40d6-fc38-b727d27898df"
      },
      "source": [
        "def sigmoid(x):\n",
        "    return 1 / (1 + np.exp(-x))\n",
        "\n",
        "# 確率的勾配降下法 stochastic gradient descent\n",
        "def sgd(One_x1_x2, max_iter, eta):\n",
        "    # .shape[1] shapeで行数，列数が出る所の…\n",
        "    # 説明変数の係数ベクトル\n",
        "    w_ = np.zeros(One_x1_x2.shape[1])\n",
        "    for i in range(max_iter):\n",
        "        w_prev_ = np.copy(w_) # ディープコピー\n",
        "        sigma = sigmoid(One_x1_x2 @ w_)\n",
        "        # sigma = sigmoid(np.dot(One_x1_x2, w_))\n",
        "        grad = One_x1_x2.T @ (sigma - y_)\n",
        "        # grad = np.dot(One_x1_x2.T, (sigma - y_))\n",
        "        w_ -= eta * grad\n",
        "        # 収束を判定\n",
        "        if np.allclose(w_, w_prev_):\n",
        "            return w_, i\n",
        "    return w_, i\n",
        "\n",
        "One_x1_x2 = add_one(X1_x2)\n",
        "print(\"One_x1_x2:\", One_x1_x2[0:5])\n",
        "max_iter=100 # 繰り返し回数\n",
        "eta = 0.01\n",
        "w_, i = sgd(One_x1_x2, max_iter, eta)\n",
        "print(\"w_, i\", w_, \",\", i)"
      ],
      "execution_count": 27,
      "outputs": [
        {
          "output_type": "stream",
          "text": [
            "One_x1_x2: [[ 1.         -1.03727966 -1.43254528]\n",
            " [ 1.         -3.09569154 -1.05630537]\n",
            " [ 1.         -1.07958457 -0.32530068]\n",
            " [ 1.         -0.44187957 -1.9117456 ]\n",
            " [ 1.         -1.50401296 -2.87777649]]\n",
            "w_, i [-0.01274008  2.09568521  2.56352407] , 99\n"
          ],
          "name": "stdout"
        }
      ]
    },
    {
      "cell_type": "markdown",
      "metadata": {
        "id": "wvj4g-mDHArU"
      },
      "source": [
        "## 予測"
      ]
    },
    {
      "cell_type": "code",
      "metadata": {
        "id": "Wc_3-Q3nHArV",
        "colab": {
          "base_uri": "https://localhost:8080/"
        },
        "outputId": "e1356885-7d47-4e1b-adb6-9317dee91a50"
      },
      "source": [
        "# 等間隔にびっしり(x1, x2)座標を打ち、そのすべてをサンプルとしてモデルによる判定を行う。\n",
        "\n",
        "X1_mesh, X2_mesh = np.meshgrid(np.linspace(-5, 5, 100), np.linspace(-5, 5, 100))\n",
        "X1_x2_mesh = np.array([X1_mesh, X2_mesh]).reshape(2, -1).T\n",
        "\n",
        "print(X1_mesh)\n",
        "print(X1_mesh.shape)\n",
        "print(X2_mesh)\n",
        "print(X2_mesh.shape)\n",
        "print(X1_x2_mesh.T)\n",
        "print(X1_x2_mesh.shape)"
      ],
      "execution_count": 28,
      "outputs": [
        {
          "output_type": "stream",
          "text": [
            "[[-5.        -4.8989899 -4.7979798 ...  4.7979798  4.8989899  5.       ]\n",
            " [-5.        -4.8989899 -4.7979798 ...  4.7979798  4.8989899  5.       ]\n",
            " [-5.        -4.8989899 -4.7979798 ...  4.7979798  4.8989899  5.       ]\n",
            " ...\n",
            " [-5.        -4.8989899 -4.7979798 ...  4.7979798  4.8989899  5.       ]\n",
            " [-5.        -4.8989899 -4.7979798 ...  4.7979798  4.8989899  5.       ]\n",
            " [-5.        -4.8989899 -4.7979798 ...  4.7979798  4.8989899  5.       ]]\n",
            "(100, 100)\n",
            "[[-5.        -5.        -5.        ... -5.        -5.        -5.       ]\n",
            " [-4.8989899 -4.8989899 -4.8989899 ... -4.8989899 -4.8989899 -4.8989899]\n",
            " [-4.7979798 -4.7979798 -4.7979798 ... -4.7979798 -4.7979798 -4.7979798]\n",
            " ...\n",
            " [ 4.7979798  4.7979798  4.7979798 ...  4.7979798  4.7979798  4.7979798]\n",
            " [ 4.8989899  4.8989899  4.8989899 ...  4.8989899  4.8989899  4.8989899]\n",
            " [ 5.         5.         5.        ...  5.         5.         5.       ]]\n",
            "(100, 100)\n",
            "[[-5.        -4.8989899 -4.7979798 ...  4.7979798  4.8989899  5.       ]\n",
            " [-5.        -5.        -5.        ...  5.         5.         5.       ]]\n",
            "(10000, 2)\n"
          ],
          "name": "stdout"
        }
      ]
    },
    {
      "cell_type": "code",
      "metadata": {
        "id": "AFT_YN6zHArW",
        "colab": {
          "base_uri": "https://localhost:8080/"
        },
        "outputId": "33f4a29c-ed64-4659-a567-e06a2f93b00c"
      },
      "source": [
        "One_x1_x2_mesh = add_one(X1_x2_mesh)\n",
        "prob_ = sigmoid(One_x1_x2_mesh @ w_)\n",
        "print(prob_.shape)\n",
        "print(prob_)\n",
        "# proba = sigmoid(np.dot(One_x1_x2_mesh, w))\n",
        "y_pred = (prob_ > 0.5).astype(np.int)\n",
        "print(y_pred)"
      ],
      "execution_count": 29,
      "outputs": [
        {
          "output_type": "stream",
          "text": [
            "(10000,)\n",
            "[7.53568325e-11 9.31228857e-11 1.15077446e-10 ... 1.00000000e+00\n",
            " 1.00000000e+00 1.00000000e+00]\n",
            "[0 0 0 ... 1 1 1]\n"
          ],
          "name": "stdout"
        }
      ]
    },
    {
      "cell_type": "code",
      "metadata": {
        "id": "IBx0_Po6HArY",
        "colab": {
          "base_uri": "https://localhost:8080/",
          "height": 282
        },
        "outputId": "f7b62e37-a3df-4b37-bc7b-d72ab295424a"
      },
      "source": [
        "x1_ = X1_x2[:, 0]\n",
        "x2_ = X1_x2[:, 1]\n",
        "plt.scatter(x1_, x2_, c=y_)\n",
        "# .linspace(0, 1, 3) yを0～1で3分割\n",
        "plt.contourf(X1_mesh, X2_mesh, prob_.reshape(100, 100), alpha=0.2, levels=np.linspace(0, 1, 3))"
      ],
      "execution_count": 30,
      "outputs": [
        {
          "output_type": "execute_result",
          "data": {
            "text/plain": [
              "<matplotlib.contour.QuadContourSet at 0x7f3c98afa150>"
            ]
          },
          "metadata": {
            "tags": []
          },
          "execution_count": 30
        },
        {
          "output_type": "display_data",
          "data": {
            "image/png": "[encoded data removed]",
            "text/plain": [
              "<Figure size 432x288 with 1 Axes>"
            ]
          },
          "metadata": {
            "tags": [],
            "needs_background": "light"
          }
        }
      ]
    },
    {
      "cell_type": "code",
      "metadata": {
        "id": "rTYYwxKgHArb",
        "colab": {
          "base_uri": "https://localhost:8080/",
          "height": 282
        },
        "outputId": "f5cb9f3c-9f54-476e-8b7a-d9f78c081f31"
      },
      "source": [
        "#sklearn実装\n",
        "\n",
        "from sklearn.linear_model import LogisticRegression\n",
        "model=LogisticRegression(fit_intercept=True)\n",
        "model.fit(X1_x2, y_)\n",
        "proba = model.predict_proba(X1_x2_mesh)\n",
        "# y_pred = (proba > 0.5).astype(np.int)\n",
        "x1_ = X1_x2[:, 0]\n",
        "x2_ = X1_x2[:, 1]\n",
        "plt.scatter(x1_, x2_, c=y_)\n",
        "plt.contourf(X1_mesh, X2_mesh, proba[:, 0].reshape(100, 100), alpha=0.2, levels=np.linspace(0, 1, 3))\n",
        "# plt.scatter(train[:, 0], train[:, 1], c=color_order)\n",
        "# plt.contourf(xx0, xx1, proba[:, 0].reshape(100, 100), alpha=0.2, levels=np.linspace(0, 1, 3))"
      ],
      "execution_count": 31,
      "outputs": [
        {
          "output_type": "execute_result",
          "data": {
            "text/plain": [
              "<matplotlib.contour.QuadContourSet at 0x7f3c98632bd0>"
            ]
          },
          "metadata": {
            "tags": []
          },
          "execution_count": 31
        },
        {
          "output_type": "display_data",
          "data": {
            "image/png": "[encoded data removed]",
            "text/plain": [
              "<Figure size 432x288 with 1 Axes>"
            ]
          },
          "metadata": {
            "tags": [],
            "needs_background": "light"
          }
        }
      ]
    }
  ]
}