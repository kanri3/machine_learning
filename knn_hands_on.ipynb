{
  "nbformat": 4,
  "nbformat_minor": 0,
  "metadata": {
    "kernelspec": {
      "name": "python3",
      "display_name": "Python 3"
    },
    "language_info": {
      "codemirror_mode": {
        "name": "ipython",
        "version": 3
      },
      "file_extension": ".py",
      "mimetype": "text/x-python",
      "name": "python",
      "nbconvert_exporter": "python",
      "pygments_lexer": "ipython3",
      "version": "3.6.5"
    },
    "colab": {
      "name": "knn_hands_on.ipynb",
      "provenance": [],
      "collapsed_sections": [],
      "include_colab_link": true
    },
    "accelerator": "GPU"
  },
  "cells": [
    {
      "cell_type": "markdown",
      "metadata": {
        "id": "view-in-github",
        "colab_type": "text"
      },
      "source": [
        "<a href=\"https://colab.research.google.com/github/kanri3/machine_learning/blob/main/knn_hands_on.ipynb\" target=\"_parent\"><img src=\"https://colab.research.google.com/assets/colab-badge.svg\" alt=\"Open In Colab\"/></a>"
      ]
    },
    {
      "cell_type": "markdown",
      "metadata": {
        "id": "0G7vJ7LFGguZ"
      },
      "source": [
        "# k近傍法"
      ]
    },
    {
      "cell_type": "markdown",
      "metadata": {
        "id": "jHpWMBT4BA-P"
      },
      "source": [
        "変数命名のルール  \n",
        "行列：M_で始まる  \n",
        "ベクトル：v_で始まる  \n",
        "スカラー等：その他"
      ]
    },
    {
      "cell_type": "code",
      "metadata": {
        "id": "SOWJiKHMGgua"
      },
      "source": [
        "%matplotlib inline\n",
        "import numpy as np\n",
        "import matplotlib.pyplot as plt\n",
        "from scipy import stats"
      ],
      "execution_count": 1,
      "outputs": []
    },
    {
      "cell_type": "markdown",
      "metadata": {
        "id": "-fkddOuWGgud"
      },
      "source": [
        "## 訓練データ生成"
      ]
    },
    {
      "cell_type": "code",
      "metadata": {
        "id": "BbukYNxeGgue"
      },
      "source": [
        "def gen_data():\n",
        "  # サイゴに - 1して平均値を0から-1に\n",
        "    M_x_smaller = np.random.normal(size=50).reshape(-1, 2) - 1\n",
        "    M_x_larger = np.random.normal(size=50).reshape(-1, 2) + 1.\n",
        "    M_x_train = np.concatenate([M_x_smaller, M_x_larger])\n",
        "    print(\"gen_data()内のM_x_train.shape :\")\n",
        "    print(M_x_train.shape)\n",
        "    v_y_train = np.concatenate([np.zeros(25), np.ones(25)]).astype(np.int)\n",
        "    return M_x_train, v_y_train"
      ],
      "execution_count": 21,
      "outputs": []
    },
    {
      "cell_type": "markdown",
      "metadata": {
        "id": "EuB9dBBIA7DS"
      },
      "source": [
        ""
      ]
    },
    {
      "cell_type": "code",
      "metadata": {
        "id": "1e60BMXgGgug",
        "colab": {
          "base_uri": "https://localhost:8080/",
          "height": 341
        },
        "outputId": "b6c3aef0-f23a-4f37-dfbd-90c4bbae53f7"
      },
      "source": [
        "M_x_train, v_y_train = gen_data()\n",
        "v_x0 = M_x_train[:, 0]\n",
        "v_x1 = M_x_train[:, 1]\n",
        "plt.xlabel(\"x0\", fontsize=20)\n",
        "plt.ylabel('x1', fontsize=20)\n",
        "# plt.set_xlabel(\"説明変数x0\", fontname=\"MS Gothic\")\n",
        "# plt.set_ylabel('説明変数x1', fontname=\"MS Gothic\")\n",
        "plt.scatter(v_x0, v_x1, c = v_y_train)"
      ],
      "execution_count": 31,
      "outputs": [
        {
          "output_type": "stream",
          "text": [
            "gen_data()内のM_x_train.shape :\n",
            "(50, 2)\n"
          ],
          "name": "stdout"
        },
        {
          "output_type": "execute_result",
          "data": {
            "text/plain": [
              "<matplotlib.collections.PathCollection at 0x7f14875c9510>"
            ]
          },
          "metadata": {
            "tags": []
          },
          "execution_count": 31
        },
        {
          "output_type": "display_data",
          "data": {
            "image/png": "[encoded data removed]",
            "text/plain": [
              "<Figure size 432x288 with 1 Axes>"
            ]
          },
          "metadata": {
            "tags": [],
            "needs_background": "light"
          }
        }
      ]
    },
    {
      "cell_type": "markdown",
      "metadata": {
        "id": "fMlLy_YwGguk"
      },
      "source": [
        "## 予測"
      ]
    },
    {
      "cell_type": "markdown",
      "metadata": {
        "id": "glejv40HGguk"
      },
      "source": [
        "近傍の既存データ$k$個の内の、最も多くが属する分類先に新規データを所属させる。"
      ]
    },
    {
      "cell_type": "code",
      "metadata": {
        "id": "XDj_GUggGgul"
      },
      "source": [
        "# 三平方の定理　ピタゴラスの定理\n",
        "def distance(v_x1, M_x2):\n",
        "    return np.sum((v_x1 - M_x2)**2, axis=1)\n",
        "\n",
        "# knc : K Neighbors Classifier\n",
        "def knc_predict(n_neighbors, M_x_train, v_y_train, M_x_test):\n",
        "    v_y_pred = np.empty(len(M_x_test), dtype = v_y_train.dtype)\n",
        "    for i, v_x in enumerate(M_x_test):\n",
        "        distances = distance(v_x, M_x_train)\n",
        "        if i==0:\n",
        "          print(\"distances :\")\n",
        "          print(distances)\n",
        "        nearest_index = distances.argsort()[:n_neighbors]\n",
        "        if i==0:\n",
        "          print(\"nearest_index :\")\n",
        "          print(nearest_index)\n",
        "        # 最頻値 mode\n",
        "        mode, _ = stats.mode(v_y_train[nearest_index])\n",
        "        v_y_pred[i] = mode\n",
        "    return v_y_pred\n",
        "\n",
        "def plt_resut(M_x_train, v_y_train, v_y_pred):\n",
        "    M_xx0, M_xx1 = np.meshgrid(np.linspace(-5, 5, 100), np.linspace(-5, 5, 100))\n",
        "    M_xx = np.array([M_xx0, M_xx1]).reshape(2, -1).T\n",
        "    plt.scatter(M_x_train[:, 0], M_x_train[:, 1], c=v_y_train)\n",
        "    plt.contourf(M_xx0, M_xx1, v_y_pred.reshape(100, 100).astype(dtype=np.float), alpha=0.2, levels=np.linspace(0, 1, 3))"
      ],
      "execution_count": 52,
      "outputs": []
    },
    {
      "cell_type": "code",
      "metadata": {
        "id": "PuD8ITzOGgum",
        "colab": {
          "base_uri": "https://localhost:8080/",
          "height": 758
        },
        "outputId": "4339d34a-871a-44a7-fc6e-8022f4617e26"
      },
      "source": [
        "n_neighbors = 3\n",
        "\n",
        "M_mesh0, M_mesh1 = np.meshgrid(np.linspace(-5, 5, 100), np.linspace(-5, 5, 100))\n",
        "# print(M_mesh0)\n",
        "# print(M_mesh1)\n",
        "print(np.array([M_mesh0, M_mesh1]))\n",
        "M_x_test = np.array([M_mesh0, M_mesh1]).reshape(2, -1).T\n",
        "\n",
        "v_y_pred = knc_predict(n_neighbors, M_x_train, v_y_train, M_x_test)\n",
        "plt_resut(M_x_train, v_y_train, v_y_pred)"
      ],
      "execution_count": 53,
      "outputs": [
        {
          "output_type": "stream",
          "text": [
            "[[[-5.        -4.8989899 -4.7979798 ...  4.7979798  4.8989899  5.       ]\n",
            "  [-5.        -4.8989899 -4.7979798 ...  4.7979798  4.8989899  5.       ]\n",
            "  [-5.        -4.8989899 -4.7979798 ...  4.7979798  4.8989899  5.       ]\n",
            "  ...\n",
            "  [-5.        -4.8989899 -4.7979798 ...  4.7979798  4.8989899  5.       ]\n",
            "  [-5.        -4.8989899 -4.7979798 ...  4.7979798  4.8989899  5.       ]\n",
            "  [-5.        -4.8989899 -4.7979798 ...  4.7979798  4.8989899  5.       ]]\n",
            "\n",
            " [[-5.        -5.        -5.        ... -5.        -5.        -5.       ]\n",
            "  [-4.8989899 -4.8989899 -4.8989899 ... -4.8989899 -4.8989899 -4.8989899]\n",
            "  [-4.7979798 -4.7979798 -4.7979798 ... -4.7979798 -4.7979798 -4.7979798]\n",
            "  ...\n",
            "  [ 4.7979798  4.7979798  4.7979798 ...  4.7979798  4.7979798  4.7979798]\n",
            "  [ 4.8989899  4.8989899  4.8989899 ...  4.8989899  4.8989899  4.8989899]\n",
            "  [ 5.         5.         5.        ...  5.         5.         5.       ]]]\n",
            "distances :\n",
            "[ 26.75540578  24.18608     47.47973251  34.78117542  48.07535202\n",
            "  57.84273095  26.17861486  46.30014228  25.43162859  27.37598225\n",
            "  43.0100071   33.88605092  28.22215094  19.54039388  34.15089504\n",
            "  31.12637466  43.8213847   31.53231209  42.52020202  25.34132084\n",
            "  38.49321451  38.27103452  27.09326811  50.55066206  39.51889934\n",
            "  68.98691837 105.17035149  55.16349885  74.03833692  61.08999773\n",
            "  93.62381562  73.8202338   66.50680572  77.87870766  48.91158904\n",
            "  83.54341957  85.7847259   45.38495115  92.47855506  79.9734606\n",
            "  69.19400766  88.66115577  98.05429186  70.18338197  78.48083648\n",
            "  84.27369158  83.35743688  70.67663393  67.19764996  87.06844338]\n",
            "nearest_index :\n",
            "[13  1 19]\n"
          ],
          "name": "stdout"
        },
        {
          "output_type": "display_data",
          "data": {
            "image/png": "[encoded data removed]",
            "text/plain": [
              "<Figure size 432x288 with 1 Axes>"
            ]
          },
          "metadata": {
            "tags": [],
            "needs_background": "light"
          }
        }
      ]
    },
    {
      "cell_type": "markdown",
      "metadata": {
        "id": "sg3X0mnZGguo"
      },
      "source": [
        "## sklearn実装"
      ]
    },
    {
      "cell_type": "code",
      "metadata": {
        "id": "i2UkN_UomVem"
      },
      "source": [
        "M_mesh0, M_mesh1 = np.meshgrid(np.linspace(-5, 5, 100), np.linspace(-5, 5, 100))\n",
        "M_xx = np.array([M_mesh0, M_mesh1]).reshape(2, -1).T"
      ],
      "execution_count": 54,
      "outputs": []
    },
    {
      "cell_type": "code",
      "metadata": {
        "id": "AiaA-7lyGgup",
        "colab": {
          "base_uri": "https://localhost:8080/",
          "height": 265
        },
        "outputId": "4b2ccec0-776c-4fee-e5d5-524571a9c1f1"
      },
      "source": [
        "from sklearn.neighbors import KNeighborsClassifier\n",
        "knc = KNeighborsClassifier(n_neighbors = n_neighbors).fit(M_x_train, v_y_train)\n",
        "plt_resut(M_x_train, v_y_train, knc.predict(M_xx))"
      ],
      "execution_count": 55,
      "outputs": [
        {
          "output_type": "display_data",
          "data": {
            "image/png": "[encoded data removed]",
            "text/plain": [
              "<Figure size 432x288 with 1 Axes>"
            ]
          },
          "metadata": {
            "tags": [],
            "needs_background": "light"
          }
        }
      ]
    }
  ]
}