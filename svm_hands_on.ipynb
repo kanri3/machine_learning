{
  "nbformat": 4,
  "nbformat_minor": 0,
  "metadata": {
    "kernelspec": {
      "name": "python3",
      "display_name": "Python 3"
    },
    "language_info": {
      "codemirror_mode": {
        "name": "ipython",
        "version": 3
      },
      "file_extension": ".py",
      "mimetype": "text/x-python",
      "name": "python",
      "nbconvert_exporter": "python",
      "pygments_lexer": "ipython3",
      "version": "3.6.5"
    },
    "colab": {
      "name": "svm_hands_on.ipynb",
      "provenance": [],
      "collapsed_sections": [],
      "include_colab_link": true
    },
    "accelerator": "GPU"
  },
  "cells": [
    {
      "cell_type": "markdown",
      "metadata": {
        "id": "view-in-github",
        "colab_type": "text"
      },
      "source": [
        "<a href=\"https://colab.research.google.com/github/kanri3/machine_learning/blob/main/svm_hands_on.ipynb\" target=\"_parent\"><img src=\"https://colab.research.google.com/assets/colab-badge.svg\" alt=\"Open In Colab\"/></a>"
      ]
    },
    {
      "cell_type": "markdown",
      "metadata": {
        "id": "LR-opvoJHgbj"
      },
      "source": [
        "# サポートベクターマシン(SVM)"
      ]
    },
    {
      "cell_type": "code",
      "metadata": {
        "id": "Vk_fEGrRHgbk"
      },
      "source": [
        "%matplotlib inline\n",
        "import numpy as np\n",
        "import matplotlib.pyplot as plt"
      ],
      "execution_count": null,
      "outputs": []
    },
    {
      "cell_type": "markdown",
      "metadata": {
        "id": "z7uy1RKmn8Pz"
      },
      "source": [
        "## データ作成"
      ]
    },
    {
      "cell_type": "code",
      "metadata": {
        "id": "piD2_-slHgbn"
      },
      "source": [
        "def gen_data():\n",
        "    # random.normal 標準正規分布N(0,1)\n",
        "    # reshape(行数, 列数) 行列作成 -1はお任せ\n",
        "    sample_size=100\n",
        "    # x0,x1はどちらも行数sample_size/2，列数2の行列\n",
        "    x0 = np.random.normal(size=sample_size).reshape(-1, 2) - 2.\n",
        "    x1 = np.random.normal(size=sample_size).reshape(-1, 2) + 2.\n",
        "    # X_trainは行数sample_size，列数2の行列\n",
        "    X_train = np.concatenate([x0, x1])\n",
        "    # np.zeros(数値)：ゼロを横に数値個並べてね。\n",
        "    # ys_trainは要素数sample_sizeのベクトル。\n",
        "    ys_train = np.concatenate([np.zeros(int(sample_size/2)), np.ones(int(sample_size/2))]).astype(np.int)\n",
        "    return X_train, ys_train"
      ],
      "execution_count": null,
      "outputs": []
    },
    {
      "cell_type": "code",
      "metadata": {
        "id": "iGXg9T-0Hgbp",
        "colab": {
          "base_uri": "https://localhost:8080/",
          "height": 286
        },
        "outputId": "4d454ef0-09d7-43df-f778-57e44dc87010"
      },
      "source": [
        "X_train, ys_train = gen_data()\n",
        "plt.scatter(X_train[:, 0], X_train[:, 1], c=ys_train)\n",
        "# print(X_train[:, 0])"
      ],
      "execution_count": null,
      "outputs": [
        {
          "output_type": "execute_result",
          "data": {
            "text/plain": [
              "<matplotlib.collections.PathCollection at 0x7fdeb7b9f210>"
            ]
          },
          "metadata": {
            "tags": []
          },
          "execution_count": 4
        },
        {
          "output_type": "display_data",
          "data": {
            "image/png": "[encoded data removed]",
            "text/plain": [
              "<Figure size 432x288 with 1 Axes>"
            ]
          },
          "metadata": {
            "tags": [],
            "needs_background": "light"
          }
        }
      ]
    },
    {
      "cell_type": "markdown",
      "metadata": {
        "collapsed": true,
        "id": "aByFSndtHgbr"
      },
      "source": [
        "## 学習"
      ]
    },
    {
      "cell_type": "code",
      "metadata": {
        "id": "14YtuqYRHgbs"
      },
      "source": [
        "# ys_trainの要素をwhereで置換したものをべクトルt_に代入\n",
        "t_ = np.where(ys_train == 1.0, 1.0, -1.0)\n",
        "\n",
        "# X_trainは行数sample_size，列数2の行列\n",
        "# len()はリストの要素数\n",
        "n_samples = len(X_train)\n",
        "# .dotは行列の積，.Tは転置\n",
        "# Kは行数,列数ともにsample_size/2の行列\n",
        "Kernel = X_train.dot(X_train.T)\n",
        "\n",
        "eta_01 = 0.01\n",
        "eta_02 = 0.001\n",
        "n_iter = 500\n",
        "# n_iter = 3\n",
        "\n",
        "# テンソル積 np.outer(t_, t_)の結果は、行数,列数ともにべクトルt_の要素数である行列\n",
        "H = np.outer(t_, t_) * Kernel\n",
        "# a_はt_と同じ要素数のベクトル\n",
        "a_ = np.ones(n_samples)\n",
        "# 勾配降下法\n",
        "# アンダーバーはループ変数を省略の時\n",
        "for _ in range(n_iter):\n",
        "    # こんなで全要素が1のから引いたことになるんだって\n",
        "    # .dot(べクトル)やる時、べクトルが縦か横か意識しないで良いみたい\n",
        "    # grad_はべクトル\n",
        "    grad_ = 1 - H.dot(a_)\n",
        "    a_ += eta_01 * grad_\n",
        "    a_ -= eta_02 * a_.dot(t_) * t_\n",
        "    a_ = np.where(a_ > 0, a_, 0)"
      ],
      "execution_count": null,
      "outputs": []
    },
    {
      "cell_type": "markdown",
      "metadata": {
        "id": "SH-DWRoZHgbu"
      },
      "source": [
        "## 予測"
      ]
    },
    {
      "cell_type": "code",
      "metadata": {
        "id": "Tu-su7dDHgbv",
        "colab": {
          "base_uri": "https://localhost:8080/"
        },
        "outputId": "65fc8438-ab6d-43a3-8f78-4f2653ced4a2"
      },
      "source": [
        "# べクトルa_の要素をboolに置換したべクトルを作りindex_に代入\n",
        "index_ = a_ > 1e-6\n",
        "# print(a_)\n",
        "# print(index_)\n",
        "# print(index_.shape)\n",
        "\n",
        "S_vs = X_train[index_]\n",
        "s_v_t_ = t_[index_]\n",
        "s_v_a_ = a_[index_]\n",
        "print(X_train.shape)\n",
        "print(S_vs)\n",
        "print(s_v_a_)\n",
        "print(index_)\n",
        "\n",
        "# Kernel[index_][:, index_]とKernel[index_, index_]の違い\n",
        "# Kernel[index_][:, index_]は行数,列数がともにindex_の要素数と一致する行列\n",
        "# Kernel[index_, index_]はindex_と要素数が同じべクトル\n",
        "# s_v_a_ * s_v_t_は、べクトルの要素同士の掛け算\n",
        "term_ = Kernel[index_][:, index_].dot(s_v_a_ * s_v_t_)\n",
        "# numpy.ndarray.mean()は、配列の要素の平均値を返す。\n",
        "b = (s_v_t_ - term_).mean()"
      ],
      "execution_count": null,
      "outputs": [
        {
          "output_type": "stream",
          "text": [
            "(100, 2)\n",
            "[[-1.39660513  0.14938616]\n",
            " [ 0.15976967  0.39490914]\n",
            " [ 0.69568438  0.26459518]]\n",
            "[0.2732015  2.1377821  0.32488527]\n",
            "[False False False False False False False False False False False False\n",
            " False False False False False False False False False False False False\n",
            " False False False False False False False False False False False False\n",
            " False False False False False  True False False False False False False\n",
            " False False False False  True False False False False False False False\n",
            " False False False False False False False  True False False False False\n",
            " False False False False False False False False False False False False\n",
            " False False False False False False False False False False False False\n",
            " False False False False]\n"
          ],
          "name": "stdout"
        }
      ]
    },
    {
      "cell_type": "code",
      "metadata": {
        "id": "Ot7kC3ayHgbx",
        "colab": {
          "base_uri": "https://localhost:8080/"
        },
        "outputId": "1db4845e-1f41-4c74-dd1d-60342d70e90b"
      },
      "source": [
        "# 格子点　範囲-5～5に100個の格子点を打つ（両端を含む）\n",
        "# np.linspace(-5, 5, 100)は要素数100の配列\n",
        "# Xx0, Xx1はともに100行100列\n",
        "Xx0, Xx1 = np.meshgrid(np.linspace(-5, 5, 100), np.linspace(-5, 5, 100))\n",
        "# np.array([xx0, xx1])は2×100×100の行列\n",
        "# Xxは10000×2の行列\n",
        "Xx = np.array([Xx0, Xx1]).reshape(2, -1).T\n",
        "X_test = Xx\n",
        "print(X_test)\n",
        "print(len(X_test))\n",
        "\n",
        "y_project = np.ones(len(X_test)) * b\n",
        "for i in range(len(X_test)):\n",
        "    for a, sv_t, sv in zip(s_v_a_, s_v_t_, S_vs):\n",
        "        y_project[i] += a * sv_t * sv.dot(X_test[i])\n",
        "y_pred = np.sign(y_project)"
      ],
      "execution_count": null,
      "outputs": [
        {
          "output_type": "stream",
          "text": [
            "[[-5.        -5.       ]\n",
            " [-4.8989899 -5.       ]\n",
            " [-4.7979798 -5.       ]\n",
            " ...\n",
            " [ 4.7979798  5.       ]\n",
            " [ 4.8989899  5.       ]\n",
            " [ 5.         5.       ]]\n",
            "10000\n"
          ],
          "name": "stdout"
        }
      ]
    },
    {
      "cell_type": "code",
      "metadata": {
        "id": "e7E2KxQ6Hgby",
        "colab": {
          "base_uri": "https://localhost:8080/",
          "height": 338
        },
        "outputId": "f9c56c8b-1ce2-4486-afff-3d78dbb5fac5"
      },
      "source": [
        "# 訓練データを可視化\n",
        "plt.scatter(X_train[:, 0], X_train[:, 1], c=ys_train)\n",
        "# サポートベクトルを可視化\n",
        "print(S_vs)\n",
        "plt.scatter(S_vs[:, 0], S_vs[:, 1],\n",
        "                    s=100, facecolors='none', edgecolors='k')\n",
        "# マージンと決定境界を可視化\n",
        "# contour:等高線, alpha:透過度\n",
        "plt.contour(Xx0, Xx1, y_project.reshape(100, 100), colors='k',\n",
        "                     levels=[-.8, 0, .8], alpha=0.2, linestyles=['--', '-', '--'])"
      ],
      "execution_count": null,
      "outputs": [
        {
          "output_type": "stream",
          "text": [
            "[[-1.39660513  0.14938616]\n",
            " [ 0.15976967  0.39490914]\n",
            " [ 0.69568438  0.26459518]]\n"
          ],
          "name": "stdout"
        },
        {
          "output_type": "execute_result",
          "data": {
            "text/plain": [
              "<matplotlib.contour.QuadContourSet at 0x7fdea88b8710>"
            ]
          },
          "metadata": {
            "tags": []
          },
          "execution_count": 40
        },
        {
          "output_type": "display_data",
          "data": {
            "image/png": "[encoded data removed]",
            "text/plain": [
              "<Figure size 432x288 with 1 Axes>"
            ]
          },
          "metadata": {
            "tags": [],
            "needs_background": "light"
          }
        }
      ]
    }
  ]
}