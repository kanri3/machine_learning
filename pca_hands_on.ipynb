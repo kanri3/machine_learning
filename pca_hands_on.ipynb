{
  "nbformat": 4,
  "nbformat_minor": 0,
  "metadata": {
    "kernelspec": {
      "name": "python3",
      "display_name": "Python 3"
    },
    "language_info": {
      "codemirror_mode": {
        "name": "ipython",
        "version": 3
      },
      "file_extension": ".py",
      "mimetype": "text/x-python",
      "name": "python",
      "nbconvert_exporter": "python",
      "pygments_lexer": "ipython3",
      "version": "3.6.5"
    },
    "colab": {
      "name": "pca_hands_on.ipynb",
      "provenance": [],
      "collapsed_sections": [],
      "include_colab_link": true
    },
    "accelerator": "GPU"
  },
  "cells": [
    {
      "cell_type": "markdown",
      "metadata": {
        "id": "view-in-github",
        "colab_type": "text"
      },
      "source": [
        "<a href=\"https://colab.research.google.com/github/kanri3/machine_learning/blob/main/pca_hands_on.ipynb\" target=\"_parent\"><img src=\"https://colab.research.google.com/assets/colab-badge.svg\" alt=\"Open In Colab\"/></a>"
      ]
    },
    {
      "cell_type": "markdown",
      "metadata": {
        "id": "JTYQxQ3CPc7W"
      },
      "source": [
        "変数命名規則  \n",
        "大文字はじまり：行列  \n",
        "アンダーバーおわり：ベクトル  \n",
        "上記以外：スカラー"
      ]
    },
    {
      "cell_type": "markdown",
      "metadata": {
        "id": "BxDpv3_DHIs6"
      },
      "source": [
        "# 主成分分析"
      ]
    },
    {
      "cell_type": "code",
      "metadata": {
        "id": "e9pEI1ZOHIs7"
      },
      "source": [
        "%matplotlib inline\n",
        "import numpy as np\n",
        "import matplotlib.pyplot as plt"
      ],
      "execution_count": 24,
      "outputs": []
    },
    {
      "cell_type": "markdown",
      "metadata": {
        "id": "Y6J3_1DPHIs9"
      },
      "source": [
        "## 訓練データ生成"
      ]
    },
    {
      "cell_type": "code",
      "metadata": {
        "id": "0D_jWCLaHIs9"
      },
      "source": [
        "n_sample = 100\n",
        "\n",
        "def gen_data(n_sample):\n",
        "    mean_ = [0, 0] # 二次元\n",
        "    Cov = [[2, 0.7], \n",
        "           [0.7, 1]] # 分散共分散行列 x,yそれぞれの分散の値が散布図に表れる。\n",
        "    # 多変量正規分布\n",
        "    return np.random.multivariate_normal(mean_, Cov, n_sample)\n",
        "\n",
        "def plt_data(X):\n",
        "    plt.scatter(X[:, 0], X[:, 1])\n",
        "    plt.xlim(-5, 5)\n",
        "    plt.ylim(-5, 5)"
      ],
      "execution_count": 25,
      "outputs": []
    },
    {
      "cell_type": "code",
      "metadata": {
        "id": "YeV3d5NGHIs_",
        "colab": {
          "base_uri": "https://localhost:8080/",
          "height": 265
        },
        "outputId": "4a000811-d32f-4343-9fc1-ad9026419407"
      },
      "source": [
        "X = gen_data(n_sample)\n",
        "plt_data(X)"
      ],
      "execution_count": 26,
      "outputs": [
        {
          "output_type": "display_data",
          "data": {
            "image/png": "[encoded data removed]",
            "text/plain": [
              "<Figure size 432x288 with 1 Axes>"
            ]
          },
          "metadata": {
            "tags": [],
            "needs_background": "light"
          }
        }
      ]
    },
    {
      "cell_type": "markdown",
      "metadata": {
        "id": "x8rieRe2HItB"
      },
      "source": [
        "## 学習"
      ]
    },
    {
      "cell_type": "code",
      "metadata": {
        "scrolled": true,
        "id": "na6ux9U6HItD"
      },
      "source": [
        "n_components=2 # component: 成分\n",
        "\n",
        "# moment ここでは分散\n",
        "def get_moments(X):\n",
        "    # 列方向に平均を\n",
        "    mean_ = X.mean(axis=0)\n",
        "    print(\"X[0:5] : \")\n",
        "    print(X[0:5])\n",
        "    print(\"mean_\")\n",
        "    print(mean_)\n",
        "    # 分母の -1 不偏分散\n",
        "    Cov = ((X - mean_).T @ (X - mean_)) / (len(X) - 1)\n",
        "    # stan_cov = np.dot((X - mean).T, X - mean) / (len(X) - 1)\n",
        "    return mean_, Cov\n",
        "    \n",
        "def get_components(EigenVectors, n_components):\n",
        "  # eigenVectors 固有ベクトル\n",
        "    print(\"EigenVectors.shape : \")\n",
        "    print(EigenVectors.shape)\n",
        "    print(EigenVectors[:, ::-1].shape)\n",
        "    print(EigenVectors)\n",
        "    print(EigenVectors[:, ::-1])\n",
        "    # :: は start:stop:step stepが-1の時、逆に\n",
        "    # W = EigenVectors[:, :n_components]\n",
        "    W = EigenVectors[:, ::-1][:, :n_components]\n",
        "    return W.T\n",
        "\n",
        "def plt_result(X, first_, second_):\n",
        "    plt.scatter(X[:, 0], X[:, 1])\n",
        "    plt.xlim(-5, 5)\n",
        "    plt.ylim(-5, 5)\n",
        "    # 第１主成分\n",
        "    plt.quiver(0, 0, first_[0], first_[1], width=0.01, scale=6, color='red')\n",
        "    # 第２主成分\n",
        "    plt.quiver(0, 0, second_[0], second_[1], width=0.01, scale=6, color='green')"
      ],
      "execution_count": 27,
      "outputs": []
    },
    {
      "cell_type": "code",
      "metadata": {
        "id": "F0b0zkkDHItE",
        "colab": {
          "base_uri": "https://localhost:8080/",
          "height": 617
        },
        "outputId": "f0e9e214-90b8-4cce-c140-850c0ec7b168"
      },
      "source": [
        "#分散共分散行列\n",
        "mean_, Cov = get_moments(X)\n",
        "#固有値と固有ベクトルを計算\n",
        "eigenValues_, EigenVectors = np.linalg.eigh(Cov)\n",
        "print(\"eigenValues_\")\n",
        "print(eigenValues_)\n",
        "\n",
        "Components = get_components(EigenVectors, n_components)\n",
        "print(\"Components\")\n",
        "print(Components)\n",
        "\n",
        "row_larger_eigen = 0\n",
        "row_fewer_eigen = 1\n",
        "# より大きい固有値に対応する固有ベクトル（主成分）の方が寄与率が大きい。\n",
        "if eigenValues_[0] < eigenValues_[1] :\n",
        "  row_larger_eigen = 1\n",
        "  row_fewer_eigen = 0\n",
        "\n",
        "first_ = EigenVectors[row_larger_eigen, :]\n",
        "second_ = EigenVectors[row_fewer_eigen, :]\n",
        "\n",
        "plt_result(X, first_, second_)"
      ],
      "execution_count": 28,
      "outputs": [
        {
          "output_type": "stream",
          "text": [
            "X[0:5] : \n",
            "[[-1.31055156  0.61592156]\n",
            " [-0.39631144  0.80007613]\n",
            " [ 1.0682982  -0.10666649]\n",
            " [ 0.33594733  0.54636622]\n",
            " [ 1.14668781 -0.75730465]]\n",
            "mean_\n",
            "[ 0.01562024 -0.03184563]\n",
            "eigenValues_\n",
            "[0.56256938 2.30478156]\n",
            "EigenVectors.shape : \n",
            "(2, 2)\n",
            "(2, 2)\n",
            "[[ 0.51803401 -0.85536002]\n",
            " [-0.85536002 -0.51803401]]\n",
            "[[-0.85536002  0.51803401]\n",
            " [-0.51803401 -0.85536002]]\n",
            "Components\n",
            "[[-0.85536002 -0.51803401]\n",
            " [ 0.51803401 -0.85536002]]\n"
          ],
          "name": "stdout"
        },
        {
          "output_type": "display_data",
          "data": {
            "image/png": "[encoded data removed]",
            "text/plain": [
              "<Figure size 432x288 with 1 Axes>"
            ]
          },
          "metadata": {
            "tags": [],
            "needs_background": "light"
          }
        }
      ]
    },
    {
      "cell_type": "markdown",
      "metadata": {
        "id": "Zn3g0_taHItG"
      },
      "source": [
        "## 変換（射影）"
      ]
    },
    {
      "cell_type": "code",
      "metadata": {
        "id": "GKAJPQbdHItH"
      },
      "source": [
        "def transform_by_pca(X, Pca):\n",
        "    mean_ = X.mean(axis=0)\n",
        "    print(\"X-mean\")\n",
        "    print(X[0:5])\n",
        "    print(mean_)\n",
        "    print((X - mean_)[0:5])\n",
        "    return ((X - mean_) @ Components)\n",
        "    # return np.dot(X-mean, components)"
      ],
      "execution_count": 29,
      "outputs": []
    },
    {
      "cell_type": "code",
      "metadata": {
        "id": "Tnv_2cpXHItJ",
        "colab": {
          "base_uri": "https://localhost:8080/",
          "height": 494
        },
        "outputId": "9420ad54-0e64-4803-c684-ccde8dbb963a"
      },
      "source": [
        "Z = transform_by_pca(X, Components.T)\n",
        "plt.scatter(Z[:, 0], Z[:, 1])\n",
        "plt.xlim(-5, 5)\n",
        "plt.ylim(-5, 5)"
      ],
      "execution_count": 30,
      "outputs": [
        {
          "output_type": "stream",
          "text": [
            "X-mean\n",
            "[[-1.31055156  0.61592156]\n",
            " [-0.39631144  0.80007613]\n",
            " [ 1.0682982  -0.10666649]\n",
            " [ 0.33594733  0.54636622]\n",
            " [ 1.14668781 -0.75730465]]\n",
            "[ 0.01562024 -0.03184563]\n",
            "[[-1.3261718   0.6477672 ]\n",
            " [-0.41193168  0.83192176]\n",
            " [ 1.05267796 -0.07482086]\n",
            " [ 0.32032709  0.57821186]\n",
            " [ 1.13106756 -0.72545901]]\n"
          ],
          "name": "stdout"
        },
        {
          "output_type": "execute_result",
          "data": {
            "text/plain": [
              "(-5.0, 5.0)"
            ]
          },
          "metadata": {
            "tags": []
          },
          "execution_count": 30
        },
        {
          "output_type": "display_data",
          "data": {
            "image/png": "[encoded data removed]",
            "text/plain": [
              "<Figure size 432x288 with 1 Axes>"
            ]
          },
          "metadata": {
            "tags": [],
            "needs_background": "light"
          }
        }
      ]
    },
    {
      "cell_type": "markdown",
      "metadata": {
        "collapsed": true,
        "id": "8nlTr8pEHItK"
      },
      "source": [
        "## 逆変換"
      ]
    },
    {
      "cell_type": "code",
      "metadata": {
        "id": "2S9E1AUMHItL"
      },
      "source": [
        "mean_ = X.mean(axis=0)\n",
        "X_rev = Z @ Components.T + mean_\n",
        "# X_ = np.dot(Z, components.T) + mean"
      ],
      "execution_count": 31,
      "outputs": []
    },
    {
      "cell_type": "code",
      "metadata": {
        "id": "zr03v27lHItN",
        "colab": {
          "base_uri": "https://localhost:8080/",
          "height": 282
        },
        "outputId": "52345b16-ed1e-4b79-9e21-2b251dbfd88e"
      },
      "source": [
        "plt.scatter(X_rev[:, 0], X_rev[:, 1])\n",
        "plt.xlim(-5, 5)\n",
        "plt.ylim(-5, 5)"
      ],
      "execution_count": 32,
      "outputs": [
        {
          "output_type": "execute_result",
          "data": {
            "text/plain": [
              "(-5.0, 5.0)"
            ]
          },
          "metadata": {
            "tags": []
          },
          "execution_count": 32
        },
        {
          "output_type": "display_data",
          "data": {
            "image/png": "[encoded data removed]",
            "text/plain": [
              "<Figure size 432x288 with 1 Axes>"
            ]
          },
          "metadata": {
            "tags": [],
            "needs_background": "light"
          }
        }
      ]
    },
    {
      "cell_type": "markdown",
      "metadata": {
        "id": "Oa1YYO5YXdqP"
      },
      "source": [
        "## sklearn"
      ]
    },
    {
      "cell_type": "code",
      "metadata": {
        "id": "pd6SI7LJHItP",
        "colab": {
          "base_uri": "https://localhost:8080/"
        },
        "outputId": "17527242-aa29-4856-97a6-3d98d835a529"
      },
      "source": [
        "from sklearn.decomposition import PCA\n",
        "pca = PCA(n_components=2)\n",
        "pca.fit(X)"
      ],
      "execution_count": 33,
      "outputs": [
        {
          "output_type": "execute_result",
          "data": {
            "text/plain": [
              "PCA(copy=True, iterated_power='auto', n_components=2, random_state=None,\n",
              "    svd_solver='auto', tol=0.0, whiten=False)"
            ]
          },
          "metadata": {
            "tags": []
          },
          "execution_count": 33
        }
      ]
    },
    {
      "cell_type": "code",
      "metadata": {
        "id": "L1HVkjAyHItQ",
        "colab": {
          "base_uri": "https://localhost:8080/"
        },
        "outputId": "9c329e09-31f4-42ba-9855-e27dd197ab27"
      },
      "source": [
        "print('Components: {}'.format(pca.components_))\n",
        "print('mean_: {}'.format(pca.mean_))\n",
        "print('Covariance: {}'.format(pca.get_covariance())) "
      ],
      "execution_count": 34,
      "outputs": [
        {
          "output_type": "stream",
          "text": [
            "Components: [[-0.85536002 -0.51803401]\n",
            " [-0.51803401  0.85536002]]\n",
            "mean_: [ 0.01562024 -0.03184563]\n",
            "Covariance: [[1.83724283 0.77198394]\n",
            " [0.77198394 1.03010811]]\n"
          ],
          "name": "stdout"
        }
      ]
    },
    {
      "cell_type": "code",
      "metadata": {
        "id": "nTmC9xhQHItS",
        "colab": {
          "base_uri": "https://localhost:8080/",
          "height": 265
        },
        "outputId": "da29edfb-bb95-45e7-c020-1dcc27993e8f"
      },
      "source": [
        "plt_result(X, pca.components_[0, :], pca.components_[1, :])"
      ],
      "execution_count": 35,
      "outputs": [
        {
          "output_type": "display_data",
          "data": {
            "image/png": "[encoded data removed]",
            "text/plain": [
              "<Figure size 432x288 with 1 Axes>"
            ]
          },
          "metadata": {
            "tags": [],
            "needs_background": "light"
          }
        }
      ]
    },
    {
      "cell_type": "code",
      "metadata": {
        "id": "ANZp2hZPHItW"
      },
      "source": [
        ""
      ],
      "execution_count": 35,
      "outputs": []
    }
  ]
}